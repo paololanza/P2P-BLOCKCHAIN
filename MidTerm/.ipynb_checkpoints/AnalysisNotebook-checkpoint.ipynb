{
 "cells": [
  {
   "cell_type": "code",
   "execution_count": 1,
   "id": "fe616df9",
   "metadata": {},
   "outputs": [],
   "source": [
    "import networkx as nx\n",
    "import pandas as pd\n",
    "import csv"
   ]
  },
  {
   "cell_type": "code",
   "execution_count": 2,
   "id": "0c412dae",
   "metadata": {},
   "outputs": [],
   "source": [
    "#create a pandas dataframes from csv files\n",
    "inputs = pd.read_csv('inputs.csv', header=None)\n",
    "inputs.columns = ['id', 'tx_id', 'sig_id', 'output_id']\n",
    "\n",
    "outputs = pd.read_csv('outputs.csv', header=None)\n",
    "outputs.columns = ['id', 'tx_id', 'pk_id', 'value']\n",
    "\n",
    "transactions = pd.read_csv('transactions.csv', header=None)\n",
    "transactions.columns = ['id', 'block_id']"
   ]
  },
  {
   "cell_type": "code",
   "execution_count": 3,
   "id": "c23feeb8",
   "metadata": {},
   "outputs": [],
   "source": [
    "def drop_invalid_transactions(tx_ids, inputs, outputs, transactions):\n",
    "    for tx_id in tx_ids:\n",
    "        inputs = inputs.drop(inputs[inputs['tx_id'] == tx_id].index)\n",
    "        outputs = outputs.drop(outputs[outputs['tx_id'] == tx_id].index)\n",
    "        transactions = transactions.drop(transactions[transactions['id'] == tx_id].index)\n",
    "    return inputs, outputs, transactions"
   ]
  },
  {
   "cell_type": "code",
   "execution_count": 4,
   "id": "5f8b8c4e",
   "metadata": {},
   "outputs": [
    {
     "name": "stdout",
     "output_type": "stream",
     "text": [
      "TX12152: UTXO 7998 double spending!\n",
      "TX30446: UTXO 21928 double spending!\n",
      "TX61845: UTXO 65403 double spending!\n",
      "TX100929: Output value 5000000010 bigger than input value 5000000000!\n",
      "TX137237: UTXO 166481 missing!\n",
      "TX204751: UTXO 249860 missing!\n",
      "Removing invalid data transactions...\n"
     ]
    }
   ],
   "source": [
    "localUTXO = []\n",
    "spentUTXO = []\n",
    "invalid_transaction = []\n",
    "\n",
    "\n",
    "for index, transaction in transactions.iterrows():\n",
    "    #take all the input of the selected transaction\n",
    "    tx_input = inputs[inputs['tx_id'] == transaction['id']]\n",
    "    count_input = 0\n",
    "    remove_UTXO = []\n",
    "    invalid = 0\n",
    "    \n",
    "    #check if the input are ok\n",
    "    for index, inp in tx_input.iterrows():\n",
    "        key_input = inp['output_id']\n",
    "        #case in which isn't a coinbase transaction\n",
    "        if key_input != -1:\n",
    "            old_outputs = outputs[outputs['id'] == key_input]\n",
    "                \n",
    "            for index, old_output in old_outputs.iterrows():\n",
    "                #double spending in the same transaction checks\n",
    "                if old_output['id'] in remove_UTXO or old_output['id'] in spentUTXO:\n",
    "                    invalid = 1\n",
    "                    invalid_transaction.append(transaction['id'])\n",
    "                    print(\"TX\" + str(transaction['id']) + \": UTXO \" + str(old_output['id']) + \" double spending!\")\n",
    "                                   \n",
    "                elif old_output['id'] not in localUTXO:\n",
    "                    invalid = 1\n",
    "                    invalid_transaction.append(transaction['id'])\n",
    "                    print(\"TX\" + str(transaction['id']) + \": UTXO \" + str(old_output['id']) + \" missing!\")\n",
    "                    \n",
    "                remove_UTXO.append(old_output['id'])\n",
    "                count_input = count_input + old_output['value']\n",
    "    \n",
    "    tx_output = outputs[outputs['tx_id'] == transaction['id']]\n",
    "    count_output = 0;\n",
    "    add_UTXO = []\n",
    "\n",
    "    for index, output in tx_output.iterrows():\n",
    "        count_output = count_output + output['value']\n",
    "\n",
    "        add_UTXO.append(output['id'])\n",
    "    \n",
    "\n",
    "    if(count_input < count_output and count_input != 0 and count_output != 0):\n",
    "        print(\"TX\" + str(transaction['id']) + \": Output value \" + str(count_output) + \\\n",
    "              \" bigger than input value \" + str(count_input) + \"!\")\n",
    "        invalid = 1;\n",
    "        invalid_transaction.append(transaction['id'])\n",
    "    \n",
    "    if invalid == 0:\n",
    "        localUTXO = localUTXO + add_UTXO\n",
    "        spentUTXO = spentUTXO + remove_UTXO\n",
    "        localUTXO = [num for num in localUTXO if num not in remove_UTXO]\n",
    "            \n",
    "print(\"Removing invalid data transactions...\")\n",
    "inputs, outputs, transactions = drop_invalid_transactions(invalid_transaction, inputs, outputs, transactions)\n",
    "\n"
   ]
  },
  {
   "cell_type": "code",
   "execution_count": 5,
   "id": "ca901014",
   "metadata": {},
   "outputs": [
    {
     "name": "stdout",
     "output_type": "stream",
     "text": [
      "Total UTXO: 71902\n",
      "Total spent TXO: 192398\n",
      "TOTAL TRANSACTION OUTPUT: 264300\n"
     ]
    }
   ],
   "source": [
    "#count how much UTXOs there are in the last block\n",
    "print(\"Total UTXO: \" + str(len(localUTXO)))\n",
    "print(\"Total spent TXO: \" + str(len(spentUTXO)))\n",
    "print(\"TOTAL TRANSACTION OUTPUT: \" + str(len(spentUTXO) + len(localUTXO)))"
   ]
  },
  {
   "cell_type": "code",
   "execution_count": 6,
   "id": "4c0b20bd",
   "metadata": {},
   "outputs": [
    {
     "name": "stdout",
     "output_type": "stream",
     "text": [
      "New max found: UTXO 1\n",
      "New max found: UTXO 510\n",
      "New max found: UTXO 611\n",
      "New max found: UTXO 1087\n",
      "New max found: UTXO 1986\n",
      "New max found: UTXO 3728\n",
      "New max found: UTXO 7789\n",
      "New max found: UTXO 11806\n",
      "New max found: UTXO 20055\n",
      "New max found: UTXO 38730\n",
      "New max found: UTXO 65825\n",
      "New max found: UTXO 148463\n",
      "New max found: UTXO 170430\n"
     ]
    }
   ],
   "source": [
    "#TODO: computare tutti gli UTXO\n",
    "max_UTXO = {'tx_id' : -1, 'block_id' : -1, 'output_id' : -1, 'value' : -1, 'address' : -1}\n",
    "\n",
    "transactions.columns = ['tx_id', 'block_id']\n",
    "tx_outputs = outputs.join(transactions.set_index('tx_id'), on='tx_id')\n",
    "for UTXO in localUTXO:\n",
    "    UTXO_df = tx_outputs[tx_outputs['id'] == UTXO]\n",
    "    for index, out in UTXO_df.iterrows():\n",
    "        if(max_UTXO['value'] < int(out['value'])):\n",
    "            max_UTXO['tx_id'] = out['tx_id']\n",
    "            max_UTXO['block_id'] = out['block_id']\n",
    "            max_UTXO['output_id'] = out['id']\n",
    "            max_UTXO['value'] = out['value']\n",
    "            max_UTXO['address'] = out['pk_id']\n",
    "            print(\"New max found: UTXO \" + str(out['id']))"
   ]
  },
  {
   "cell_type": "code",
   "execution_count": 7,
   "id": "98be8598",
   "metadata": {},
   "outputs": [
    {
     "name": "stdout",
     "output_type": "stream",
     "text": [
      "*************\n",
      "MAXIMUM UTXO\n",
      "*************\n",
      "TX_ID: 140479\n",
      "BLOCK_ID: 90532\n",
      "OUTPUT_ID: 170430\n",
      "VALUE: 9000000000000\n",
      "ADDRESS: 138895\n"
     ]
    }
   ],
   "source": [
    "#print the UTXO with maximum value\n",
    "print('*************\\nMAXIMUM UTXO\\n*************' + \\\n",
    "      '\\nTX_ID: ' + str(max_UTXO['tx_id']) + \\\n",
    "      '\\nBLOCK_ID: ' + str(max_UTXO['block_id']) + \\\n",
    "      '\\nOUTPUT_ID: ' + str(max_UTXO['output_id']) + \\\n",
    "      '\\nVALUE: ' + str(max_UTXO['value']) + \\\n",
    "      '\\nADDRESS: ' + str(max_UTXO['address']))"
   ]
  },
  {
   "cell_type": "code",
   "execution_count": 8,
   "id": "84906969",
   "metadata": {},
   "outputs": [],
   "source": [
    "#calculate the period of time of each tx\n",
    "month = []\n",
    "for index, block in transactions.iterrows():\n",
    "    month.append(int(block['block_id']/4320) + 1)\n",
    "    \n",
    "transactions['month'] = month"
   ]
  },
  {
   "cell_type": "code",
   "execution_count": 9,
   "id": "9d4269e0",
   "metadata": {},
   "outputs": [
    {
     "name": "stdout",
     "output_type": "stream",
     "text": [
      "       tx_id  block_id\n",
      "month                 \n",
      "1       4378      4378\n",
      "2       4350      4350\n",
      "3       4343      4343\n",
      "4       4340      4340\n",
      "5       4336      4336\n",
      "6       4343      4343\n",
      "7       4370      4370\n",
      "8       4331      4331\n",
      "9       4400      4400\n",
      "10      4433      4433\n",
      "11      4490      4490\n",
      "12      7924      7924\n",
      "13      5288      5288\n",
      "14      5736      5736\n",
      "15      6067      6067\n",
      "16     14857     14857\n",
      "17     14005     14005\n",
      "18      8607      8607\n",
      "19      9738      9738\n",
      "20     11062     11062\n",
      "21      9427      9427\n",
      "22     60668     60668\n",
      "23     12745     12745\n",
      "24      2382      2382\n",
      "         tx_id  block_id  month\n",
      "0            1         0      1\n",
      "1            2         1      1\n",
      "2            3         2      1\n",
      "3            4         3      1\n",
      "4            5         4      1\n",
      "...        ...       ...    ...\n",
      "216621  216622    100016     24\n",
      "216622  216623    100016     24\n",
      "216623  216624    100016     24\n",
      "216624  216625    100016     24\n",
      "216625  216626    100017     24\n",
      "\n",
      "[216620 rows x 3 columns]\n"
     ]
    },
    {
     "data": {
      "text/plain": [
       "<AxesSubplot:xlabel='month'>"
      ]
     },
     "execution_count": 9,
     "metadata": {},
     "output_type": "execute_result"
    },
    {
     "data": {
      "image/png": "[encoded data removed]",
      "text/plain": [
       "<Figure size 432x288 with 1 Axes>"
      ]
     },
     "metadata": {
      "needs_background": "light"
     },
     "output_type": "display_data"
    }
   ],
   "source": [
    "block_occupancy = transactions.groupby(by=['month']).count()\n",
    "print(block_occupancy)\n",
    "print(transactions)\n",
    "block_occupancy.plot.line(y = 'block_id')"
   ]
  },
  {
   "cell_type": "code",
   "execution_count": 10,
   "id": "4cfcbc84",
   "metadata": {},
   "outputs": [
    {
     "name": "stdout",
     "output_type": "stream",
     "text": [
      "pk_id\n",
      "1         5000000000\n",
      "2         5000000000\n",
      "3         5000000000\n",
      "4         5000000000\n",
      "5         5000000000\n",
      "             ...    \n",
      "174692    5000000000\n",
      "174695    5001200000\n",
      "174696    5000000000\n",
      "174697    5003800000\n",
      "174701    5299000000\n",
      "Name: value, Length: 100155, dtype: int64\n"
     ]
    }
   ],
   "source": [
    "#get the list of COINBASE TX\n",
    "coinbase_tx = inputs[inputs['sig_id'] == 0]['tx_id'].tolist()\n",
    "\n",
    "#get the list of the public keys that have at least one COINBASE TX\n",
    "coinbase_pk = outputs[outputs['tx_id'].isin(coinbase_tx)]['pk_id'].tolist()\n",
    "\n",
    "#get for each public key the amount of value received\n",
    "pk_value = outputs[outputs['pk_id'].isin(coinbase_pk)].groupby(by=['pk_id'])['value'].sum()\n",
    "print(pk_value)"
   ]
  },
  {
   "cell_type": "code",
   "execution_count": null,
   "id": "625512e8",
   "metadata": {},
   "outputs": [],
   "source": [
    "#select all the transactions that aren't a coinbase\n",
    "tx_fees = inputs[inputs['sig_id'] != 0]['tx_id'].tolist()\n",
    "print(len(tx_fees))\n",
    "fees = []\n",
    "\n",
    "for transaction in tx_fees:\n",
    "    input_list = inputs[inputs['tx_id'] == transaction]['output_id'].tolist()\n",
    "    input_value = outputs[outputs['id'].isin(input_list)]['value'].tolist()\n",
    "    output_value = outputs[outputs['id'] == transaction]['value'].tolist()\n",
    "    fees.append(int(sum(input_value) - sum(output_value)))\n",
    "    if(int(sum(input_value) - sum(output_value)) < 0)\n",
    "        print(\"TX\" + str(transaction))\n",
    "        print(input_value)\n",
    "        print(output_value)\n",
    "\n",
    "tx_fees['fees'] = fees"
   ]
  },
  {
   "cell_type": "code",
   "execution_count": null,
   "id": "6452c7e4",
   "metadata": {},
   "outputs": [],
   "source": []
  }
 ],
 "metadata": {
  "kernelspec": {
   "display_name": "Python 3 (ipykernel)",
   "language": "python",
   "name": "python3"
  },
  "language_info": {
   "codemirror_mode": {
    "name": "ipython",
    "version": 3
   },
   "file_extension": ".py",
   "mimetype": "text/x-python",
   "name": "python",
   "nbconvert_exporter": "python",
   "pygments_lexer": "ipython3",
   "version": "3.10.4"
  }
 },
 "nbformat": 4,
 "nbformat_minor": 5
}
