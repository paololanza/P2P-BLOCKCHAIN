{
 "cells": [
  {
   "cell_type": "code",
   "execution_count": 1,
   "id": "fe616df9",
   "metadata": {},
   "outputs": [],
   "source": [
    "import networkx as nx\n",
    "import pandas as pd\n",
    "import csv\n",
    "import matplotlib.pyplot as plt"
   ]
  },
  {
   "cell_type": "code",
   "execution_count": 2,
   "id": "0c412dae",
   "metadata": {},
   "outputs": [],
   "source": [
    "#create a pandas dataframes from csv files\n",
    "inputs = pd.read_csv('inputs.csv', header=None)\n",
    "inputs.columns = ['id', 'tx_id', 'sig_id', 'output_id']\n",
    "\n",
    "outputs = pd.read_csv('outputs.csv', header=None)\n",
    "outputs.columns = ['id', 'tx_id', 'pk_id', 'value']\n",
    "\n",
    "transactions = pd.read_csv('transactions.csv', header=None)\n",
    "transactions.columns = ['id', 'block_id']"
   ]
  },
  {
   "cell_type": "code",
   "execution_count": 3,
   "id": "c23feeb8",
   "metadata": {},
   "outputs": [],
   "source": [
    "def drop_invalid_transactions(tx_ids, inputs, outputs, transactions):\n",
    "    for tx_id in tx_ids:\n",
    "        inputs = inputs.drop(inputs[inputs['tx_id'] == tx_id].index)\n",
    "        outputs = outputs.drop(outputs[outputs['tx_id'] == tx_id].index)\n",
    "        transactions = transactions.drop(transactions[transactions['id'] == tx_id].index)\n",
    "    return inputs, outputs, transactions"
   ]
  },
  {
   "cell_type": "code",
   "execution_count": 4,
   "id": "5f8b8c4e",
   "metadata": {},
   "outputs": [],
   "source": [
    "localUTXO = []\n",
    "spentUTXO = []\n",
    "invalid_transaction = []\n",
    "backup = 1\n",
    "\n",
    "if backup == 0:\n",
    "    for index, transaction in transactions.iterrows():\n",
    "        #take all the input of the selected transaction\n",
    "        tx_input = inputs[inputs['tx_id'] == transaction['id']]\n",
    "        count_input = 0\n",
    "        remove_UTXO = []\n",
    "        invalid = 0\n",
    "\n",
    "        #check if the input are ok\n",
    "        for index, inp in tx_input.iterrows():\n",
    "            key_input = inp['output_id']\n",
    "            #case in which isn't a coinbase transaction\n",
    "            if key_input != -1:\n",
    "                old_outputs = outputs[outputs['id'] == key_input]\n",
    "\n",
    "                if old_outputs.empty:\n",
    "                    invalid = 1\n",
    "                    invalid_transaction.append(transaction['id'])\n",
    "                    print(\"TX\" + str(transaction['id']) + \": No TX Input found!\")\n",
    "\n",
    "                for index, old_output in old_outputs.iterrows():\n",
    "                    #double spending in the same transaction checks\n",
    "                    if old_output['id'] in remove_UTXO or old_output['id'] in spentUTXO:\n",
    "                        invalid = 1\n",
    "                        invalid_transaction.append(transaction['id'])\n",
    "                        print(\"TX\" + str(transaction['id']) + \": UTXO \" + str(old_output['id']) + \" double spending!\")\n",
    "\n",
    "                    elif old_output['id'] not in localUTXO:\n",
    "                        invalid = 1\n",
    "                        invalid_transaction.append(transaction['id'])\n",
    "                        print(\"TX\" + str(transaction['id']) + \": UTXO \" + str(old_output['id']) + \" missing!\")\n",
    "\n",
    "                    remove_UTXO.append(old_output['id'])\n",
    "                    count_input = count_input + old_output['value']\n",
    "\n",
    "        tx_output = outputs[outputs['tx_id'] == transaction['id']]\n",
    "        count_output = 0;\n",
    "        add_UTXO = []\n",
    "\n",
    "        if tx_output.empty:\n",
    "            invalid = 1\n",
    "            invalid_transaction.append(transaction['id'])\n",
    "            print(\"TX\" + str(transaction['id']) + \": No TX Output found!\")\n",
    "\n",
    "        for index, output in tx_output.iterrows():\n",
    "            count_output = count_output + output['value']\n",
    "\n",
    "            add_UTXO.append(output['id'])\n",
    "\n",
    "\n",
    "        if(count_input < count_output and count_input != 0 and count_output != 0):\n",
    "            print(\"TX\" + str(transaction['id']) + \": Output value \" + str(count_output) + \\\n",
    "                  \" bigger than input value \" + str(count_input) + \"!\")\n",
    "            invalid = 1;\n",
    "            invalid_transaction.append(transaction['id'])\n",
    "\n",
    "        if invalid == 0:\n",
    "            for item in add_UTXO:\n",
    "                localUTXO.append(item)\n",
    "            for item in remove_UTXO:\n",
    "                spentUTXO.append(item)\n",
    "                localUTXO.remove(item)\n",
    "\n",
    "    print(\"Removing invalid data transactions...\")\n",
    "invalid_trasactions = [12152, 15698, 30446, 61845, 100929, 137237, 204751]\n",
    "inputs, outputs, transactions = drop_invalid_transactions(invalid_transaction, inputs, outputs, transactions)\n"
   ]
  },
  {
   "cell_type": "code",
   "execution_count": 5,
   "id": "0df466c1",
   "metadata": {},
   "outputs": [
    {
     "name": "stdout",
     "output_type": "stream",
     "text": [
      "Total UTXO: 0\n",
      "Total spent TXO: 0\n",
      "TOTAL TRANSACTION OUTPUT: 0\n",
      "**************************************\n",
      "TOTAL UNSPENT VALUE : 0\n"
     ]
    }
   ],
   "source": [
    "#TODO: computare tutti gli UTXO\n",
    "max_UTXO = {'tx_id' : -1, 'block_id' : -1, 'output_id' : -1, 'value' : -1, 'address' : -1}\n",
    "\n",
    "transactions.columns = ['tx_id', 'block_id']\n",
    "total_amount = 0\n",
    "tx_outputs = outputs.join(transactions.set_index('tx_id'), on='tx_id')\n",
    "for UTXO in localUTXO:\n",
    "    UTXO_df = tx_outputs[tx_outputs['id'] == UTXO]\n",
    "    for index, out in UTXO_df.iterrows():\n",
    "        total_amount = total_amount + int(out['value'])\n",
    "        if(max_UTXO['value'] < int(out['value'])):\n",
    "            max_UTXO['tx_id'] = out['tx_id']\n",
    "            max_UTXO['block_id'] = out['block_id']\n",
    "            max_UTXO['output_id'] = out['id']\n",
    "            max_UTXO['value'] = out['value']\n",
    "            max_UTXO['address'] = out['pk_id']\n",
    "            print(\"New max found: UTXO \" + str(out['id']))\n",
    "            \n",
    "#count how much UTXOs there are in the last block\n",
    "print(\"Total UTXO: \" + str(len(localUTXO)))\n",
    "print(\"Total spent TXO: \" + str(len(spentUTXO)))\n",
    "print(\"TOTAL TRANSACTION OUTPUT: \" + str(len(spentUTXO) + len(localUTXO)))\n",
    "print(\"**************************************\")\n",
    "print(\"TOTAL UNSPENT VALUE : \" + str(total_amount))"
   ]
  },
  {
   "cell_type": "code",
   "execution_count": 6,
   "id": "4f317138",
   "metadata": {},
   "outputs": [
    {
     "name": "stdout",
     "output_type": "stream",
     "text": [
      "*************\n",
      "MAXIMUM UTXO\n",
      "*************\n",
      "TX_ID: -1\n",
      "BLOCK_ID: -1\n",
      "OUTPUT_ID: -1\n",
      "VALUE: -1\n",
      "ADDRESS: -1\n"
     ]
    }
   ],
   "source": [
    "#print the UTXO with maximum value\n",
    "print('*************\\nMAXIMUM UTXO\\n*************' + \\\n",
    "      '\\nTX_ID: ' + str(max_UTXO['tx_id']) + \\\n",
    "      '\\nBLOCK_ID: ' + str(max_UTXO['block_id']) + \\\n",
    "      '\\nOUTPUT_ID: ' + str(max_UTXO['output_id']) + \\\n",
    "      '\\nVALUE: ' + str(max_UTXO['value']) + \\\n",
    "      '\\nADDRESS: ' + str(max_UTXO['address']))"
   ]
  },
  {
   "cell_type": "code",
   "execution_count": 7,
   "id": "ab6d27fb",
   "metadata": {},
   "outputs": [],
   "source": [
    "#calculate the period of time of each tx\n",
    "month = []\n",
    "aa = transactions\n",
    "for index, block in aa.iterrows():\n",
    "    month.append(int(block['block_id']/4320) + 1)\n",
    "aa['month'] = month\n",
    "\n",
    "a = aa[['id', 'block_id']].groupby('block_id').count()\n",
    "a.columns = ['number_tx']\n",
    "\n",
    "a.plot(kind='line')\n",
    "\n",
    "print(a.columns)\n",
    "\n",
    "b = aa[['month', 'id']].groupby('month').count().astype(int)\n",
    "b.columns = ['block_size']\n",
    "block_size = []\n",
    "for index, block in b.iterrows():\n",
    "    block_size.append(block['block_size']/4320)\n",
    "b['block_size'] = block_size\n",
    "b.plot(kind='line')"
   ]
  },
  {
   "cell_type": "code",
   "execution_count": 18,
   "id": "71e387f3",
   "metadata": {},
   "outputs": [
    {
     "name": "stderr",
     "output_type": "stream",
     "text": [
      "/var/folders/jf/2klxw_5j40b99lw0dpk1tt5w0000gn/T/ipykernel_18629/864223411.py:35: FutureWarning: merging between different levels is deprecated and will be removed in a future version. (1 levels on the left, 2 on the right)\n",
      "  pk_value = tmp.join(inputs_value)\n"
     ]
    },
    {
     "data": {
      "text/plain": [
       "<AxesSubplot:xlabel='pk_id'>"
      ]
     },
     "execution_count": 18,
     "metadata": {},
     "output_type": "execute_result"
    },
    {
     "data": {
      "image/png": "[encoded data removed]",
      "text/plain": [
       "<Figure size 432x288 with 1 Axes>"
      ]
     },
     "metadata": {
      "needs_background": "light"
     },
     "output_type": "display_data"
    },
    {
     "data": {
      "image/png": "[encoded data removed]",
      "text/plain": [
       "<Figure size 432x288 with 1 Axes>"
      ]
     },
     "metadata": {
      "needs_background": "light"
     },
     "output_type": "display_data"
    },
    {
     "data": {
      "image/png": "[encoded data removed]",
      "text/plain": [
       "<Figure size 432x288 with 1 Axes>"
      ]
     },
     "metadata": {
      "needs_background": "light"
     },
     "output_type": "display_data"
    }
   ],
   "source": [
    "#get the list of COINBASE TX\n",
    "coinbase_tx = inputs[inputs['sig_id'] == 0]['tx_id'].tolist()\n",
    "\n",
    "#get the list of the public keys that have at least one COINBASE TX\n",
    "coinbase_pk = outputs[outputs['tx_id'].isin(coinbase_tx)]['pk_id'].tolist()\n",
    "\n",
    "#get for each public key the amount of value received\n",
    "pk_value = outputs[outputs['pk_id'].isin(coinbase_pk)].groupby(by=['pk_id'])['value'].agg(['sum','count'])\n",
    "pk_value = pk_value.sort_values(by = ['sum', 'count'], ascending=[False, True])\n",
    "pk_value['sum'].head(20).plot(kind = 'bar', use_index=True)\n",
    "\n",
    "\n",
    "#calculate for each address miners how much have earned from coinbase transactions\n",
    "#get a\n",
    "coinbase = outputs[outputs['tx_id'].isin(coinbase_tx)].groupby(by=['pk_id'])['value'].agg(['sum','count'])\n",
    "coinbase = coinbase.sort_values(by = ['sum','count'], ascending=[False, False])\n",
    "\n",
    "pk_value.columns = ['total_sum', 'count_tot']\n",
    "coinbase.columns = ['coinbase_sum', 'count_cb']\n",
    "pk_value = coinbase.join(pk_value)\n",
    "\n",
    "pk_value['count_ncb'] = pk_value['count_tot'] - pk_value['count_cb']\n",
    "pk_value['notcoinbase_sum'] = pk_value['total_sum'] - pk_value['coinbase_sum']\n",
    "\n",
    "pk_value = pk_value.sort_values(by = ['total_sum'], ascending=[False])\n",
    "pk_value.columns = ['coinbase_sum', 'count_cb', 'total_sum', 'count_tot', 'count_ncb', 'notcoinbase_sum']\n",
    "pk_value[['coinbase_sum', 'notcoinbase_sum']].head(20).plot(kind = 'bar', use_index=True)\n",
    "\n",
    "#count how much transaction came from miner's address\n",
    "transactions.columns = ['tx_id', 'block_id', 'month']\n",
    "\n",
    "inputs_miner = inputs[inputs['sig_id'].isin(coinbase_pk)]['output_id'].tolist()\n",
    "inputs_value = outputs[outputs['id'].isin(inputs_miner)][['pk_id','value']].groupby('pk_id').agg(['sum'])\n",
    "tmp = pk_value[['total_sum']]\n",
    "pk_value = tmp.join(inputs_value)\n",
    "pk_value.columns = ['received_value', 'sent_value']\n",
    "pk_value.head(20).plot(kind = 'bar', use_index=True)"
   ]
  },
  {
   "cell_type": "code",
   "execution_count": 10,
   "id": "625512e8",
   "metadata": {},
   "outputs": [],
   "source": [
    "#select all the transactions that aren't a coinbase\n",
    "tx = inputs[inputs['output_id'] != -1]['tx_id'].drop_duplicates()\n",
    "tx_fees = tx.tolist()\n",
    "fees = []\n",
    "\n",
    "for transaction in tx_fees:\n",
    "    input_list = inputs[inputs['tx_id'] == transaction]['output_id'].tolist()\n",
    "    input_value = outputs[outputs['id'].isin(input_list)]['value'].tolist()\n",
    "    output_value = outputs[outputs['tx_id'] == transaction]['value'].tolist()\n",
    "    fees.append(int(sum(input_value) - sum(output_value)))\n",
    "\n",
    "tx = tx.to_frame()\n",
    "tx['fees'] = fees\n",
    "tx = transactions.merge(tx, on='tx_id', how='left')"
   ]
  },
  {
   "cell_type": "code",
   "execution_count": 11,
   "id": "0e13ca77",
   "metadata": {},
   "outputs": [
    {
     "data": {
      "text/plain": [
       "<AxesSubplot:xlabel='month'>"
      ]
     },
     "execution_count": 11,
     "metadata": {},
     "output_type": "execute_result"
    },
    {
     "data": {
      "image/png": "[encoded data removed]",
      "text/plain": [
       "<Figure size 432x288 with 1 Axes>"
      ]
     },
     "metadata": {
      "needs_background": "light"
     },
     "output_type": "display_data"
    }
   ],
   "source": [
    "txs = tx[['month', 'fees']]\n",
    "txs = txs.groupby('month')['fees'].agg(['sum'])\n",
    "txs.columns = ['fees']\n",
    "\n",
    "txs.plot(kind='line')"
   ]
  },
  {
   "cell_type": "code",
   "execution_count": 20,
   "id": "0971dc60",
   "metadata": {},
   "outputs": [
    {
     "name": "stdout",
     "output_type": "stream",
     "text": [
      "         tx_id  block_id  month          fees\n",
      "105280  105281     75047     18  1.000000e+10\n",
      "92975    92976     70509     17  4.999971e+09\n",
      "100848  100849     72855     17  4.999971e+09\n",
      "101661  101662     73272     17  4.320000e+08\n",
      "60912    60913     55819     13  3.350000e+08\n",
      "60910    60911     55819     13  2.730000e+08\n",
      "60971    60972     55869     13  2.640000e+08\n",
      "100683  100684     72763     17  2.310000e+08\n",
      "137236  137237     88755     21  1.666667e+08\n",
      "104984  104985     74939     18  1.550000e+08\n",
      "92434    92435     70209     17  1.520000e+08\n",
      "71417    71418     63531     15  1.370000e+08\n",
      "93038    93039     70537     17  1.180000e+08\n",
      "92437    92438     70210     17  1.070000e+08\n",
      "121712  121713     82672     20  1.030000e+08\n",
      "2863      2864      2817      1  1.000000e+08\n",
      "2862      2863      2817      1  1.000000e+08\n",
      "62445    62446     57052     14  9.900000e+07\n",
      "94902    94903     70880     17  9.500000e+07\n",
      "97309    97310     71052     17  8.900000e+07\n",
      "140483  140484     90535     21  8.300000e+07\n",
      "107472  107473     76171     18  8.000000e+07\n",
      "104567  104568     74784     18  6.700000e+07\n",
      "60908    60909     55819     13  6.300000e+07\n",
      "145654  145655     92059     22  4.800000e+07\n",
      "39651    39652     39323     10  4.400000e+07\n",
      "198923  198924     93995     22  3.600000e+07\n",
      "128265  128266     84963     20  3.500000e+07\n",
      "206867  206868     97317     23  2.900000e+07\n",
      "49546    49547     48895     12  2.600000e+07\n",
      "28701    28702     28511      7  2.200000e+07\n",
      "209606  209607     98111     23  1.800000e+07\n",
      "20009    20010     19867      5  1.400000e+07\n",
      "34639    34640     34407      8  1.400000e+07\n",
      "115949  115950     80423     19  1.300000e+07\n",
      "20919    20920     20774      5  1.300000e+07\n",
      "25640    25641     25472      6  1.200000e+07\n",
      "34638    34639     34407      8  1.200000e+07\n",
      "23237    23238     23083      6  1.200000e+07\n",
      "14170    14171     14050      4  1.000000e+07\n",
      "115913  115914     80403     19  5.000000e+06\n",
      "216555  216556     99989     24  5.000000e+06\n",
      "209020  209021     97914     23  5.000000e+06\n",
      "216624  216625    100016     24  3.800000e+06\n",
      "216470  216471     99959     24  3.000000e+06\n",
      "13099    13100     12986      4  3.000000e+06\n",
      "205912  205913     97057     23  2.000000e+06\n",
      "206222  206223     97161     23  2.000000e+06\n",
      "206247  206248     97171     23  2.000000e+06\n",
      "204733  204734     96597     23  2.000000e+06\n"
     ]
    },
    {
     "data": {
      "text/plain": [
       "<AxesSubplot:>"
      ]
     },
     "execution_count": 20,
     "metadata": {},
     "output_type": "execute_result"
    },
    {
     "data": {
      "image/png": "[encoded data removed]",
      "text/plain": [
       "<Figure size 432x288 with 1 Axes>"
      ]
     },
     "metadata": {
      "needs_background": "light"
     },
     "output_type": "display_data"
    }
   ],
   "source": [
    "print(tx.sort_values(by = ['fees'], ascending=[False]).head(50))\n",
    "tx.sort_values(by = ['fees'], ascending=[False]).head(20).plot(kind='bar')"
   ]
  },
  {
   "cell_type": "code",
   "execution_count": 13,
   "id": "89b16ab6",
   "metadata": {},
   "outputs": [
    {
     "name": "stdout",
     "output_type": "stream",
     "text": [
      "            id   tx_id   pk_id       value\n",
      "123671  123672  105281  155098 -5000000000\n"
     ]
    }
   ],
   "source": [
    "print(outputs[outputs['value'] < 0])"
   ]
  },
  {
   "cell_type": "code",
   "execution_count": 14,
   "id": "6146ad7b",
   "metadata": {},
   "outputs": [
    {
     "name": "stdout",
     "output_type": "stream",
     "text": [
      "            id  tx_id  pk_id  value\n",
      "108615  108616  92976  92934  29000\n",
      "            id  tx_id  sig_id  output_id\n",
      "120377  120378  92976   92696     108290\n",
      "            id  tx_id  pk_id       value\n",
      "108289  108290  92707  92696  5000000000\n"
     ]
    }
   ],
   "source": [
    "print(outputs[outputs['tx_id'] == 92976])\n",
    "print(inputs[inputs['tx_id'] == 92976])\n",
    "print(outputs[outputs['id'] == 108290])"
   ]
  },
  {
   "cell_type": "code",
   "execution_count": 15,
   "id": "d8e233da",
   "metadata": {},
   "outputs": [
    {
     "name": "stdout",
     "output_type": "stream",
     "text": [
      "            id   tx_id  pk_id       value\n",
      "118018  118019  100844  98030  5000000000\n",
      "            id   tx_id  sig_id  output_id\n",
      "132087  132088  100844   97734     117654\n",
      "            id   tx_id  pk_id       value\n",
      "117653  117654  100554  97734  5000000000\n"
     ]
    }
   ],
   "source": [
    "print(outputs[outputs['tx_id'] == 100844])\n",
    "print(inputs[inputs['tx_id'] == 100844])\n",
    "print(outputs[outputs['id'] == 117654])"
   ]
  },
  {
   "cell_type": "code",
   "execution_count": 28,
   "id": "76b72cb5",
   "metadata": {},
   "outputs": [
    {
     "name": "stdout",
     "output_type": "stream",
     "text": [
      "Index(['number_tx'], dtype='object')\n"
     ]
    },
    {
     "data": {
      "text/plain": [
       "<AxesSubplot:xlabel='month'>"
      ]
     },
     "execution_count": 28,
     "metadata": {},
     "output_type": "execute_result"
    },
    {
     "data": {
      "image/png": "[encoded data removed]",
      "text/plain": [
       "<Figure size 432x288 with 1 Axes>"
      ]
     },
     "metadata": {
      "needs_background": "light"
     },
     "output_type": "display_data"
    },
    {
     "data": {
      "image/png": "[encoded data removed]",
      "text/plain": [
       "<Figure size 432x288 with 1 Axes>"
      ]
     },
     "metadata": {
      "needs_background": "light"
     },
     "output_type": "display_data"
    }
   ],
   "source": [
    "transactions = pd.read_csv('transactions.csv', header=None)\n",
    "transactions.columns = ['id', 'block_id']\n",
    "\n",
    "inputs, outputs, transactions = drop_invalid_transactions(invalid_transaction, inputs, outputs, transactions)\n",
    "#calculate the period of time of each tx\n",
    "month = []\n",
    "aa = transactions\n",
    "for index, block in aa.iterrows():\n",
    "    month.append(int(block['block_id']/4320) + 1)\n",
    "aa['month'] = month\n",
    "\n",
    "a = aa[['id', 'block_id']].groupby('block_id').count()\n",
    "a.columns = ['number_tx']\n",
    "\n",
    "a.plot(kind='line')\n",
    "\n",
    "print(a.columns)\n",
    "\n",
    "b = aa[['month', 'id']].groupby('month').count().astype(int)\n",
    "b.columns = ['block_size']\n",
    "block_size = []\n",
    "for index, block in b.iterrows():\n",
    "    block_size.append(block['block_size']/4320)\n",
    "b['block_size'] = block_size\n",
    "b.plot(kind='line')\n"
   ]
  }
 ],
 "metadata": {
  "kernelspec": {
   "display_name": "Python 3 (ipykernel)",
   "language": "python",
   "name": "python3"
  },
  "language_info": {
   "codemirror_mode": {
    "name": "ipython",
    "version": 3
   },
   "file_extension": ".py",
   "mimetype": "text/x-python",
   "name": "python",
   "nbconvert_exporter": "python",
   "pygments_lexer": "ipython3",
   "version": "3.10.4"
  }
 },
 "nbformat": 4,
 "nbformat_minor": 5
}
